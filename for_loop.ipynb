{
 "cells": [
  {
   "cell_type": "code",
   "execution_count": 3,
   "id": "d3aa1375",
   "metadata": {},
   "outputs": [
    {
     "name": "stdout",
     "output_type": "stream",
     "text": [
      "2 is even\n",
      "4 is even\n",
      "6 is even\n",
      "8 is even\n",
      "10 is even\n"
     ]
    }
   ],
   "source": [
    "list_1=[1,2,3,4,5,6,7,8,9,10]\n",
    "for num in list_1:\n",
    "    if num%2==0:\n",
    "        print(num ,\"is even\")"
   ]
  }
 ],
 "metadata": {
  "kernelspec": {
   "display_name": "Python 3",
   "language": "python",
   "name": "python3"
  },
  "language_info": {
   "codemirror_mode": {
    "name": "ipython",
    "version": 3
   },
   "file_extension": ".py",
   "mimetype": "text/x-python",
   "name": "python",
   "nbconvert_exporter": "python",
   "pygments_lexer": "ipython3",
   "version": "3.13.3"
  }
 },
 "nbformat": 4,
 "nbformat_minor": 5
}
