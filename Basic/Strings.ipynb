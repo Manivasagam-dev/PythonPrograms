{
 "cells": [
  {
   "cell_type": "code",
   "execution_count": 1,
   "id": "4e2981f4",
   "metadata": {},
   "outputs": [
    {
     "name": "stdout",
     "output_type": "stream",
     "text": [
      "Manivasagam\n"
     ]
    }
   ],
   "source": [
    "s=\"manivasagam\"\n",
    "print(s.capitalize())"
   ]
  },
  {
   "cell_type": "code",
   "execution_count": 5,
   "id": "dad7b163",
   "metadata": {},
   "outputs": [
    {
     "name": "stdout",
     "output_type": "stream",
     "text": [
      "MANIVASAGAM\n",
      "manivasagam\n"
     ]
    }
   ],
   "source": [
    "s=\"MANIVASAGAM\"\n",
    "print(s)\n",
    "print(s.casefold())"
   ]
  },
  {
   "cell_type": "code",
   "execution_count": 1,
   "id": "5cf1d569",
   "metadata": {},
   "outputs": [
    {
     "name": "stdout",
     "output_type": "stream",
     "text": [
      "manivasagam\n",
      "manivasagam\n"
     ]
    }
   ],
   "source": [
    "s=\"manivasagam\"\n",
    "print(s)\n",
    "print(s.center(10, \"0\"))"
   ]
  },
  {
   "cell_type": "code",
   "execution_count": 21,
   "id": "df3da740",
   "metadata": {},
   "outputs": [
    {
     "name": "stdout",
     "output_type": "stream",
     "text": [
      "7\n"
     ]
    }
   ],
   "source": [
    "txt=\"I like cake, but it's not good for diebities. So it's better to control the cunsumption\"\n",
    "x=txt.count(\"i\")\n",
    "print(x)"
   ]
  },
  {
   "cell_type": "code",
   "execution_count": 9,
   "id": "b6b4deed",
   "metadata": {},
   "outputs": [
    {
     "name": "stdout",
     "output_type": "stream",
     "text": [
      "b'My name is Manivasagam'\n"
     ]
    }
   ],
   "source": [
    "txt=\"My name is Manivasagam\"\n",
    "x=txt.encode()\n",
    "print(x)"
   ]
  },
  {
   "cell_type": "code",
   "execution_count": 28,
   "id": "8cd002fb",
   "metadata": {},
   "outputs": [
    {
     "name": "stdout",
     "output_type": "stream",
     "text": [
      "b'My name is Manivasagam'\n",
      "b'My name is Manivasagam'\n",
      "b'My name is Manivasagam'\n"
     ]
    }
   ],
   "source": [
    "txt=\"My name is Manivasagam\"\n",
    "print(txt.encode(encoding=\"ascii\",errors=\"namereplace\"))\n",
    "print(txt.encode(encoding=\"ascii\",errors=\"backlashreplace\"))\n",
    "print(txt.encode(encoding=\"ascii\",errors=\"ignore\"))"
   ]
  },
  {
   "cell_type": "code",
   "execution_count": 38,
   "id": "5fd1965d",
   "metadata": {},
   "outputs": [
    {
     "name": "stdout",
     "output_type": "stream",
     "text": [
      "38\n",
      "True\n",
      "False\n"
     ]
    }
   ],
   "source": [
    "txt=\"Hello, Welcome to the programming work\"\n",
    "x= txt.endswith(\"work\", 34, 38)\n",
    "y= txt.endswith((\"works\", \"world\"))\n",
    "print(len(txt))\n",
    "print(x)\n",
    "print(y)"
   ]
  },
  {
   "cell_type": "code",
   "execution_count": 6,
   "id": "3088dadc",
   "metadata": {},
   "outputs": [
    {
     "name": "stdout",
     "output_type": "stream",
     "text": [
      "H e l l o \n",
      "H\te\tl\tl\to\t\n"
     ]
    }
   ],
   "source": [
    "txt=\"H\\te\\tl\\tl\\to\\t\"\n",
    "print(txt.expandtabs(1))\n",
    "print(txt)"
   ]
  },
  {
   "cell_type": "code",
   "execution_count": 36,
   "id": "b22a561b",
   "metadata": {},
   "outputs": [
    {
     "name": "stdout",
     "output_type": "stream",
     "text": [
      "19\n",
      "63\n",
      "21\n",
      "rfind()\n",
      "25\n"
     ]
    }
   ],
   "source": [
    "# find() searches the string for a specified value and returns the last position of where it was found.\n",
    "# Syntax: string.find(value,start,end).\n",
    "# finds the firstoccurrence of the specified value.\n",
    "# Returns -1 if the value is not found.\n",
    "# The find() method is almost the sames as the index(), the only difference id that the index() raises an exception if the value is not found.\n",
    "# Value: \"Required\" The value to search for.\n",
    "# Start: \"Optional\" Where to start the search. Default is 0.\n",
    "# End: \"Optional\" Where to end the search. Default is to the end of the string.\n",
    "s=\"hello, this is the find function excercise for todays home work\"\n",
    "print(s.find(\"find\", 10, 50))\n",
    "print(len(s))\n",
    "print(s.index(\"n\"))\n",
    "# The rfind() finds the last occurrence of the specified value.\n",
    "# Returns -1 if the value is not found.\n",
    "# rfind() is almost the same as the rindex().\n",
    "print(\"rfind()\")\n",
    "txt=\"hello, where to find my phone?\"\n",
    "print(txt.rfind(\"h\"))"
   ]
  },
  {
   "cell_type": "code",
   "execution_count": null,
   "id": "fec58ec1",
   "metadata": {},
   "outputs": [
    {
     "name": "stdout",
     "output_type": "stream",
     "text": [
      "My name is Manivasagam, I am 28 years old\n",
      "My name is Manivasagam          I am 28       years old\n",
      "My name is          Manivasagam I am       28 years old\n",
      "My name is    40    I am    28    years old\n",
      "My name is -15 I am -28 years old\n",
      "Temperature is +25\n"
     ]
    }
   ],
   "source": [
    "#Format()\n",
    "s=\"My name is {}, I am {} years old\"\n",
    "s_1=\"My name is {:<20} I am {:<8} years old\"\n",
    "s_2=\"My name is {:>20} I am {:>8} years old\"\n",
    "s_3=\"My name is {:^8} I am {:^8} years old\"\n",
    "s_4=\"My name is {:=1} I am {:=1} years old\"\n",
    "s_5=\"Temperature is {:+}\"\n",
    "\n",
    "temprat=int(input())\n",
    "print(s.format(\"Manivasagam\", 28))\n",
    "print(s_1.format(\"Manivasagam\", 28))\n",
    "print(s_2.format(\"Manivasagam\", 28))\n",
    "print(s_3.format(40, 28))\n",
    "print(s_4.format(-15, -28))\n",
    "print(s_5.format(temprat))"
   ]
  },
  {
   "cell_type": "code",
   "execution_count": 88,
   "id": "e9df4972",
   "metadata": {},
   "outputs": [
    {
     "name": "stdout",
     "output_type": "stream",
     "text": [
      "My name is Manivasagam I am 28 years old\n",
      "My name is Manivasagam My age is 28\n"
     ]
    }
   ],
   "source": [
    "#format_map()\n",
    "data={'name': 'Manivasagam', 'age': 28}\n",
    "s=\"My name is {name} I am {age} years old\"\n",
    "print(s.format_map(data))\n",
    "#format_map() with input()\n",
    "name=input()\n",
    "age=input()\n",
    "data={'name': name, 'age': age}\n",
    "s=\"My name is {name} My age is {age}\"\n",
    "print(s.format_map(data))"
   ]
  },
  {
   "cell_type": "code",
   "execution_count": 41,
   "id": "44eb28f3",
   "metadata": {},
   "outputs": [
    {
     "name": "stdout",
     "output_type": "stream",
     "text": [
      "9\n",
      "1\n",
      "40\n",
      "33\n",
      "37\n"
     ]
    }
   ],
   "source": [
    "# The index() searches the string for a specified value and returns the position of where it was found.\n",
    "# Finds the first occurrence of the specified value.\n",
    "# Syntax: string.index(value, start, end)\n",
    "# Value: \"Required\" The value to search for.\n",
    "# Start: \"Optional\" Where to start the search. Default is 0.\n",
    "# End: Where to end the search. Default is the end of the string.\n",
    "s=\"Hello, this is example for index()\"\n",
    "print(s.find(\"i\"))\n",
    "print(s.index(\"e\"))\n",
    "# The rindex() finds the last occurrences of the specified value.\n",
    "# Syntax: string.rindex(value, start, end)\n",
    "s=\"Hello, this is the examples for rindex()\"\n",
    "print(len(s))\n",
    "print(s.rindex(\"i\"))\n",
    "print(s.rindex(\"x\"))"
   ]
  },
  {
   "cell_type": "code",
   "execution_count": 95,
   "id": "bd6b5c21",
   "metadata": {},
   "outputs": [
    {
     "name": "stdout",
     "output_type": "stream",
     "text": [
      "True\n",
      "False\n",
      "True\n",
      "False\n",
      "False\n",
      "True\n"
     ]
    }
   ],
   "source": [
    "s=\"mani1234\"\n",
    "print(s.isalnum())\n",
    "print(s.isalpha())\n",
    "print(s.isascii())\n",
    "print(s.isdecimal())\n",
    "print(s.isdigit())\n",
    "print(s.isidentifier())"
   ]
  },
  {
   "cell_type": "code",
   "execution_count": 97,
   "id": "6bcb69e0",
   "metadata": {},
   "outputs": [
    {
     "name": "stdout",
     "output_type": "stream",
     "text": [
      "False\n",
      "False\n",
      "True\n",
      "False\n",
      "True\n",
      "False\n"
     ]
    }
   ],
   "source": [
    "s=\"Manivasagam 1234\"\n",
    "print(s.islower())\n",
    "print(s.isnumeric())\n",
    "print(s.isprintable())\n",
    "print(s.isspace())\n",
    "print(s.istitle())\n",
    "print(s.isupper())"
   ]
  },
  {
   "cell_type": "code",
   "execution_count": 11,
   "id": "b658ad25",
   "metadata": {},
   "outputs": [
    {
     "name": "stdout",
     "output_type": "stream",
     "text": [
      "manixmathxphysics\n",
      "manixmani\n",
      "Using str() 1 2 3 4 5 6 7 8 9 0\n",
      "Using map() 1 2 3 4 5 6 7 8 9 0\n",
      "name00city00area\n"
     ]
    }
   ],
   "source": [
    "tuple_1=(\"mani\",\"math\",\"physics\")\n",
    "print(\"x\".join(tuple_1))\n",
    "list_1=[\"mani\",\"mani\"]\n",
    "print(\"x\".join(list_1))\n",
    "#join() only converts <str> values of an iterable into a single sting.\n",
    "#if you attempt to use join() directly on a list of integers it will raise a \"TypeError\"\n",
    "#to use join with a list of integers, you must first convert each integer to a string.\n",
    "#it can be done using a list comprehension or the map() with str().\n",
    "list_2=[1,2,3,4,5,6,7,8,9,0]\n",
    "str_1=[str(i) for i in list_2]\n",
    "print(\"Using str()\",\" \".join(str_1)) \n",
    "str_2=list(map(str,list_2))\n",
    "print(\"Using map()\",\" \".join(str_2))\n",
    "#when applying join() on dictionaries it only joins the \"key\" not the \"value\"\n",
    "dict_1={\"name\":\"mani\", \"city\":\"Coimbatore\", \"area\":\"Cheranma nagar\"}\n",
    "print(\"00\".join(dict_1))"
   ]
  },
  {
   "cell_type": "code",
   "execution_count": null,
   "id": "cc6239f0",
   "metadata": {},
   "outputs": [
    {
     "name": "stdout",
     "output_type": "stream",
     "text": [
      "coimbatore&&&&&&&&&& is my current location\n",
      "$$$$$$$$$manivasagam is my name\n",
      "         manivasagam is my name\n",
      "manivasagam is my name1\n",
      "manivasagam is my name1\n",
      "manivasagam          is my name2\n",
      "manivasagam is my name2\n",
      "manivasagam is my name3\n",
      "manivasagam is my name3\n"
     ]
    }
   ],
   "source": [
    "#ljust() returns a left justified version of the string \n",
    "#string.ljust(length,character) is the syntax\n",
    "#\"Required\" length is the length of the returned string\n",
    "#\"Optional\" character is to fill the missing space (to the right of the string) Default is \" \"(space)\n",
    "txt=\"coimbatore\"\n",
    "print(txt.ljust(20,\"&\"),\"is my current location\")\n",
    "# rjust() returns a right justified version of the string\n",
    "# Syntax: string.rjust(length,character)\n",
    "s=\"manivasagam\"\n",
    "print(s.rjust(20,\"$\"), \"is my name\")\n",
    "print(s.rjust(20),\"is my name\")\n",
    "# The strip() returns the trim version of the string.\n",
    "# Syntax: string.strip(characters)\n",
    "# Characters: \"Optional\" A set of characters to remove as leading/trailing characters.\n",
    "# \" \"(space) is the default trailing character to remove.\n",
    "txt=\"       manivasagam         \"\n",
    "print(txt.strip(),\"is my name1\")\n",
    "txt=\",,,,,;;;sssddddjjjkkk......manivasagam,,,,,;;;sssddddjjjkkk......\"\n",
    "print(txt.strip(\",.;sdjk\"), \"is my name1\")\n",
    "\n",
    "\n",
    "#lstrip() Returns a left trim version of the string.\n",
    "#string.lstrip(character) is the syntax.\n",
    "#\"Optional\" character is a set of characters to remove as leading characters\n",
    "#\" \" (space) is the default leading characters to remove\n",
    "txt=\"           manivasagam         \"\n",
    "print(txt.lstrip(), \"is my name2\")\n",
    "txt=\",,,,,;;;sssddddjjjkkk......manivasagam\"\n",
    "print(txt.lstrip(\",.;sdjk\"), \"is my name2\")\n",
    "\n",
    "# rstrip Returns a right trim version of the string.\n",
    "# Syntax: string.rstrip(characters)\n",
    "# Characters: \"Optional\" A set of characters to remove as trailing characters. \n",
    "# \" \"(Space) is the default trailing character to remove.\n",
    "txt=\"manivasagam         \"\n",
    "print(txt.rstrip(), \"is my name3\")\n",
    "txt=\"manivasagam,,,,,;;;sssddddjjjkkk......\"\n",
    "print(txt.rstrip(\",.;sdjk\"), \"is my name3\")"
   ]
  },
  {
   "cell_type": "code",
   "execution_count": 24,
   "id": "0e191101",
   "metadata": {},
   "outputs": [
    {
     "name": "stdout",
     "output_type": "stream",
     "text": [
      "H0ll0 Mani, Welc0me t0 pyth0n\n",
      "Hollo Vasa, Welcome to pythos\n",
      "H Vasa, cm  phs\n"
     ]
    }
   ],
   "source": [
    "#maketrans() returns a mapping table that can be used with the translate() to replace specified characters\n",
    "#Syntax: str.maketrans(x,y,z)\n",
    "# x=\"Required\" if only one parameter is specified, this has to be a dictionary describing how to perform the replace.\n",
    "#if two or more parameters are specified,this parameters has to be a string specifying the characters you want to replace.\n",
    "# y=\"Optional\" a string with the same length as parameter x. Each character in the first parameter will be corresponding character in this string.\n",
    "# z=\"Optional\" a string describing which charecters to remove from the original string.\n",
    "# X & Y must have the same length.\n",
    "txt=\"Hollo Mani, Welcome to python\"\n",
    "table_1=str.maketrans(\"o\", \"0\")\n",
    "print(txt.translate(table_1))\n",
    "x=\"Mani\"\n",
    "y=\"Vasa\"\n",
    "table_2=str.maketrans(x,y)\n",
    "print(txt.translate(table_2))\n",
    "z=\"oWeytl\"\n",
    "table_3=str.maketrans(x,y,z)\n",
    "print(txt.translate(table_3))\n"
   ]
  },
  {
   "cell_type": "code",
   "execution_count": null,
   "id": "0dbabcd7",
   "metadata": {},
   "outputs": [
    {
     "name": "stdout",
     "output_type": "stream",
     "text": [
      "('Hello, where are ', 'you', ' from? And how did you get here?')\n",
      "(' from? And how did ', 'you', ' get here?')\n",
      "('Hello, where are you from? And how did you get here?', '', '')\n",
      "('Hello, where are you from? And how did you get he', 're', '?')\n",
      "('Hello, where a', 're', ' you from? And how did you get he')\n",
      "('', '', 'Hello, where are you from? And how did you get here?')\n"
     ]
    }
   ],
   "source": [
    "#partition() searches for a specified string, and splits the string into a tuple containing three elements.\n",
    "#The first element contains the part before the specified string.\n",
    "#The second element contains the specified string.\n",
    "#The third element contains the part after the specified string.\n",
    "#This method searches for the first occurrence of the specified string.\n",
    "#Syntax: string.partition(value)\n",
    "#value \"Required. The string to search for\".\n",
    "txt=\"Hello, where are you from? And how did you get here?\"\n",
    "x=txt.partition(\"you\")\n",
    "print(x)\n",
    "x_1=x[2].partition(\"you\")\n",
    "print(x_1)\n",
    "x_2=txt.partition(\"apple\")\n",
    "print(x_2)\n",
    "# rpartition() Returns a tuple where the string is parted into three parts\n",
    "# Syntax: rpartition(value)\n",
    "s=txt.rpartition(\"re\")\n",
    "print(s)\n",
    "s_1=s[0].rpartition(\"re\")\n",
    "print(s_1)\n",
    "s_2=txt.rpartition(\"mango\")\n",
    "print(s_2)"
   ]
  },
  {
   "cell_type": "code",
   "execution_count": 18,
   "id": "f5a5f2e4",
   "metadata": {},
   "outputs": [
    {
     "name": "stdout",
     "output_type": "stream",
     "text": [
      "['Hello', 'mornig', 'evening', 'noon', 'dawn', 'dusk']\n",
      "Type of s is:  <class 'list'>\n",
      "['Hello', ' mornig', ' evening', ' noon, dawn, dusk'] \n",
      "\n",
      "['Hello', 'mornig', 'evening', 'noon', 'dawn', 'dusk']\n",
      "Type of s_2 is:  <class 'list'>\n",
      "['Hello, mornig, evening', ' noon', ' dawn', ' dusk']\n",
      "['Hello, Nice to meet you. ', ' Welcome to coimbatore']\n",
      "Keep the line breaks\n",
      "['Hello, Nice to meet you. \\n', ' Welcome to coimbatore']\n"
     ]
    }
   ],
   "source": [
    "# The split() splits the string at the specified seperator, and returns a list\n",
    "# Syntax: string.split(separator, maxsplit)\n",
    "# Separator: \"Optional\" Specifies the separator to use when spliting. By default any whitespace is a separator.\n",
    "# Maxsplit: \"Optional\" Specifies how many splits to do. Default value is -1, Which is \"all occurrences\".\n",
    "# When maxsplit is specified, the list will contain the specified number of elements plus one.\n",
    "txt=\"Hello, mornig, evening, noon, dawn, dusk\"\n",
    "s=txt.split(\", \")\n",
    "print(s)\n",
    "print(\"Type of s is: \", type(s))\n",
    "s_1=txt.split(\",\",3)\n",
    "print(s_1, '\\n')\n",
    "# The rsplit() splits a string into a list, staring from the right.\n",
    "# Syntax: string.rsplit(separator, maxsplit)\n",
    "txt_1=\"Hello, mornig, evening, noon, dawn, dusk\"\n",
    "s_2=txt_1.rsplit(\", \")\n",
    "print(s_2)\n",
    "print(\"Type of s_2 is: \", type(s_2))\n",
    "s_3=txt_1.rsplit(\",\",3)\n",
    "print(s_3)\n",
    "\n",
    "# The splitlines() splits the string at line breaks and returns a list.\n",
    "# Syntax: string.splitlines(keeplinebreaks)\n",
    "# keeplinebreaks: \"Optional\". Specifies if the linebreaks should be included(True), or not(False). Default values is False.\n",
    "txt=\"Hello, Nice to meet you. \\n Welcome to coimbatore\"\n",
    "s=txt.splitlines()\n",
    "print(s)\n",
    "print(\"Keep the line breaks\")\n",
    "s=txt.splitlines(True)\n",
    "print(s)"
   ]
  },
  {
   "cell_type": "code",
   "execution_count": 34,
   "id": "952a4747",
   "metadata": {},
   "outputs": [
    {
     "name": "stdout",
     "output_type": "stream",
     "text": [
      "seven two three four five six seven two three four five six seven two three four five six seven two three four five six\n",
      "seven two three four five six seven two three four five six one two three four five six one two three four five six\n"
     ]
    }
   ],
   "source": [
    "# The replace() replaces a specified phrase with another specified phrase.\n",
    "# All occurrences of the specified phrase will be replaced, if nothing else is specified.\n",
    "# Syntax: string.replace(oldvalue, newvalue, count)\n",
    "# Oldvalue: \"Required\" The string to search for.\n",
    "# Newvalue: \"required\" The string tp replace the old value with.\n",
    "# Count: \"Optional\" A number specifying how many occurrences of the old value tou want to raplace. Default is all occurrences\n",
    "txt=\"one two three four five six one two three four five six one two three four five six one two three four five six\"\n",
    "s=txt.replace(\"one\",\"seven\")\n",
    "print(s)\n",
    "txt_1=\"one two three four five six one two three four five six one two three four five six one two three four five six\"\n",
    "s_1=txt_1.replace(\"one\",\"seven\",2)\n",
    "print(s_1)"
   ]
  },
  {
   "cell_type": "code",
   "execution_count": 22,
   "id": "249648d8",
   "metadata": {},
   "outputs": [
    {
     "name": "stdout",
     "output_type": "stream",
     "text": [
      "70\n",
      "True\n",
      "False\n"
     ]
    }
   ],
   "source": [
    "\n",
    "# The startswith() Returns True if the string starts with the specified value, Otherwise False.\n",
    "# Syntax: string.startswith(value, start, end)\n",
    "# Value: \"Required\" The value to check if the string starts with. This value parameter can be a tuple, then the method returns true if the string starts with any of the tuple values.\n",
    "# start: \"Optional\". An integer specifying at which position to start the search.\n",
    "# end: \"Optional\". An integer specifying at which position to end the search.\n",
    "txt=\"Hello, this is my laptop. Can you return this to my address. Thank you\"\n",
    "print(len(txt))\n",
    "s=txt.startswith((\"hello\",\"Hello\"))\n",
    "print(s)\n",
    "s=txt.startswith(\"Hello\",20,30)\n",
    "print(s)"
   ]
  },
  {
   "cell_type": "code",
   "execution_count": 23,
   "id": "7a17e7e1",
   "metadata": {},
   "outputs": [
    {
     "name": "stdout",
     "output_type": "stream",
     "text": [
      "hELLO, hOW are you, hope YOU'RE DOING WELL\n"
     ]
    }
   ],
   "source": [
    "# The swapcase() swaps cases, lower case becomes upper case ane vice versa.\n",
    "# Syntax: string.swapcase() \n",
    "# No parameters.\n",
    "txt=\"Hello, How ARE YOU, HOPE you're doing well\"\n",
    "s=txt.swapcase()\n",
    "print(s)"
   ]
  },
  {
   "cell_type": "code",
   "execution_count": 25,
   "id": "76b90fda",
   "metadata": {},
   "outputs": [
    {
     "name": "stdout",
     "output_type": "stream",
     "text": [
      "I Graduated From Government Arts College. \n",
      "3Graduated 2In 2020\n"
     ]
    }
   ],
   "source": [
    "# The title() converts the first character of each word to upper case. Like a header, or a title.\n",
    "# If the word contains a number or a symbol, the first letter after that will be converted to upper case.\n",
    "# Syntax: string.title()\n",
    "# No parameters.\n",
    "x=\"i graduated from government arts college. \\n3graduated 2in 2020\"\n",
    "s=x.title()\n",
    "print(s)"
   ]
  },
  {
   "cell_type": "code",
   "execution_count": 49,
   "id": "d85cc880",
   "metadata": {},
   "outputs": [
    {
     "name": "stdout",
     "output_type": "stream",
     "text": [
      "wqngo qpple orqnge\n",
      "sango apple orange\n"
     ]
    }
   ],
   "source": [
    "# The translate() Returns a string where some specified characters are replaced with the character described in a dictionary, or in a mapping table.\n",
    "# Use the maketrans() to create a mapping a table.\n",
    "# If a character is not specified in the dictionary/table, the character will not be replaced.\n",
    "# If you use a dictionary, you must use ascii codes instead of characters.\n",
    "# Syntax: string.translate(table)\n",
    "# Table: \"Required\" Either a dictionary, or a mapping table describing how to perform the replace.\n",
    "\n",
    "dict_1 = {ord('m'):'w',ord('a'):'q'}\n",
    "s= \"mango apple orange\"\n",
    "print(s.translate(dict_1))\n",
    "table_1=s.maketrans(\"m\",\"s\")\n",
    "print(s.translate(table_1))"
   ]
  },
  {
   "cell_type": "code",
   "execution_count": 52,
   "id": "e36db8cf",
   "metadata": {},
   "outputs": [
    {
     "name": "stdout",
     "output_type": "stream",
     "text": [
      "MY FAVORITE FRUITS ARE MANGO & APPLE \n",
      " KJHFH92882%&%*@$&@$*JHSFHF\n"
     ]
    }
   ],
   "source": [
    "# The upper() converts a string into upper case.\n",
    "# Symbols and numbers are ignored.\n",
    "# Syntax: string.upper()\n",
    "# No parameters.\n",
    "s=\"my favorite fruits are mango & apple\"\n",
    "s_1=\"kjhfh92882%&%*@$&@$*jhsfhf\"\n",
    "print(s.upper(),\"\\n\",s_1.upper())"
   ]
  },
  {
   "cell_type": "code",
   "execution_count": 53,
   "id": "00bb317c",
   "metadata": {},
   "outputs": [
    {
     "name": "stdout",
     "output_type": "stream",
     "text": [
      "000000000000000000hi\n"
     ]
    }
   ],
   "source": [
    "# The zfill() Fills the string with a specified number of Zeros(0) at the beginning.\n",
    "# Syntax: string.zfill(len)\n",
    "# Len: \"Required\". A number specifying the desired length of the string.\n",
    "# If the value of the \"len\" is less than the length of the string no filling is done.\n",
    "s=\"hi\"\n",
    "print(s.zfill(20))"
   ]
  }
 ],
 "metadata": {
  "kernelspec": {
   "display_name": "Python 3",
   "language": "python",
   "name": "python3"
  },
  "language_info": {
   "codemirror_mode": {
    "name": "ipython",
    "version": 3
   },
   "file_extension": ".py",
   "mimetype": "text/x-python",
   "name": "python",
   "nbconvert_exporter": "python",
   "pygments_lexer": "ipython3",
   "version": "3.13.3"
  }
 },
 "nbformat": 4,
 "nbformat_minor": 5
}
