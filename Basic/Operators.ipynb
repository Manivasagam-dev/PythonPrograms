{
 "cells": [
  {
   "cell_type": "code",
   "execution_count": 3,
   "id": "a6881c52",
   "metadata": {},
   "outputs": [
    {
     "name": "stdout",
     "output_type": "stream",
     "text": [
      "The value of c is:  70\n"
     ]
    }
   ],
   "source": [
    "a=int(input(\"Enter value a:\"))\n",
    "b=int(input(\"Enter value b:\"))\n",
    "print(\"The value of c is: \", a+b)"
   ]
  },
  {
   "cell_type": "code",
   "execution_count": 14,
   "id": "e6b71028",
   "metadata": {},
   "outputs": [
    {
     "name": "stdout",
     "output_type": "stream",
     "text": [
      "0b1010000000000\n",
      "0b101\n",
      "0\n"
     ]
    }
   ],
   "source": [
    "a=5\n",
    "print(bin(a<<10))\n",
    "print(bin(a))\n",
    "print(a>>10)"
   ]
  }
 ],
 "metadata": {
  "kernelspec": {
   "display_name": "Python 3",
   "language": "python",
   "name": "python3"
  },
  "language_info": {
   "codemirror_mode": {
    "name": "ipython",
    "version": 3
   },
   "file_extension": ".py",
   "mimetype": "text/x-python",
   "name": "python",
   "nbconvert_exporter": "python",
   "pygments_lexer": "ipython3",
   "version": "3.13.3"
  }
 },
 "nbformat": 4,
 "nbformat_minor": 5
}
