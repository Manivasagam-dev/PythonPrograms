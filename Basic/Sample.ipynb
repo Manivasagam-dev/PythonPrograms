{
 "cells": [
  {
   "cell_type": "code",
   "execution_count": 2,
   "id": "4e2981f4",
   "metadata": {},
   "outputs": [
    {
     "name": "stdout",
     "output_type": "stream",
     "text": [
      "Manivasagam\n"
     ]
    }
   ],
   "source": [
    "s=\"manivasagam\"\n",
    "print(s.capitalize())"
   ]
  },
  {
   "cell_type": "code",
   "execution_count": 5,
   "id": "dad7b163",
   "metadata": {},
   "outputs": [
    {
     "name": "stdout",
     "output_type": "stream",
     "text": [
      "MANIVASAGAM\n",
      "manivasagam\n"
     ]
    }
   ],
   "source": [
    "s=\"MANIVASAGAM\"\n",
    "print(s)\n",
    "print(s.casefold())"
   ]
  },
  {
   "cell_type": "code",
   "execution_count": 1,
   "id": "5cf1d569",
   "metadata": {},
   "outputs": [
    {
     "name": "stdout",
     "output_type": "stream",
     "text": [
      "manivasagam\n",
      "manivasagam\n"
     ]
    }
   ],
   "source": [
    "s=\"manivasagam\"\n",
    "print(s)\n",
    "print(s.center(10, \"0\"))"
   ]
  },
  {
   "cell_type": "code",
   "execution_count": 21,
   "id": "df3da740",
   "metadata": {},
   "outputs": [
    {
     "name": "stdout",
     "output_type": "stream",
     "text": [
      "7\n"
     ]
    }
   ],
   "source": [
    "txt=\"I like cake, but it's not good for diebities. So it's better to control the cunsumption\"\n",
    "x=txt.count(\"i\")\n",
    "print(x)"
   ]
  },
  {
   "cell_type": "code",
   "execution_count": 9,
   "id": "b6b4deed",
   "metadata": {},
   "outputs": [
    {
     "name": "stdout",
     "output_type": "stream",
     "text": [
      "b'My name is Manivasagam'\n"
     ]
    }
   ],
   "source": [
    "txt=\"My name is Manivasagam\"\n",
    "x=txt.encode()\n",
    "print(x)"
   ]
  },
  {
   "cell_type": "code",
   "execution_count": 28,
   "id": "8cd002fb",
   "metadata": {},
   "outputs": [
    {
     "name": "stdout",
     "output_type": "stream",
     "text": [
      "b'My name is Manivasagam'\n",
      "b'My name is Manivasagam'\n",
      "b'My name is Manivasagam'\n"
     ]
    }
   ],
   "source": [
    "txt=\"My name is Manivasagam\"\n",
    "print(txt.encode(encoding=\"ascii\",errors=\"namereplace\"))\n",
    "print(txt.encode(encoding=\"ascii\",errors=\"backlashreplace\"))\n",
    "print(txt.encode(encoding=\"ascii\",errors=\"ignore\"))"
   ]
  },
  {
   "cell_type": "code",
   "execution_count": 38,
   "id": "5fd1965d",
   "metadata": {},
   "outputs": [
    {
     "name": "stdout",
     "output_type": "stream",
     "text": [
      "38\n",
      "True\n",
      "False\n"
     ]
    }
   ],
   "source": [
    "txt=\"Hello, Welcome to the programming work\"\n",
    "x= txt.endswith(\"work\", 34, 38)\n",
    "y= txt.endswith((\"works\", \"world\"))\n",
    "print(len(txt))\n",
    "print(x)\n",
    "print(y)"
   ]
  },
  {
   "cell_type": "code",
   "execution_count": 6,
   "id": "3088dadc",
   "metadata": {},
   "outputs": [
    {
     "name": "stdout",
     "output_type": "stream",
     "text": [
      "H e l l o \n",
      "H\te\tl\tl\to\t\n"
     ]
    }
   ],
   "source": [
    "txt=\"H\\te\\tl\\tl\\to\\t\"\n",
    "print(txt.expandtabs(1))\n",
    "print(txt)"
   ]
  },
  {
   "cell_type": "code",
   "execution_count": null,
   "id": "b22a561b",
   "metadata": {},
   "outputs": [
    {
     "name": "stdout",
     "output_type": "stream",
     "text": [
      "19\n",
      "63\n",
      "21\n"
     ]
    }
   ],
   "source": [
    "s=\"hello, this is the find function excercise for todays home work\"\n",
    "print(s.find(\"find\", 10, 50))\n",
    "print(len(s))\n",
    "print(s.index(\"n\"))"
   ]
  },
  {
   "cell_type": "code",
   "execution_count": null,
   "id": "fec58ec1",
   "metadata": {},
   "outputs": [
    {
     "name": "stdout",
     "output_type": "stream",
     "text": [
      "My name is Manivasagam, I am 28 years old\n",
      "My name is Manivasagam          I am 28       years old\n",
      "My name is          Manivasagam I am       28 years old\n",
      "My name is    40    I am    28    years old\n",
      "My name is -15 I am -28 years old\n",
      "Temperature is +25\n"
     ]
    }
   ],
   "source": [
    "#Format()\n",
    "s=\"My name is {}, I am {} years old\"\n",
    "s_1=\"My name is {:<20} I am {:<8} years old\"\n",
    "s_2=\"My name is {:>20} I am {:>8} years old\"\n",
    "s_3=\"My name is {:^8} I am {:^8} years old\"\n",
    "s_4=\"My name is {:=1} I am {:=1} years old\"\n",
    "s_5=\"Temperature is {:+}\"\n",
    "\n",
    "temprat=int(input())\n",
    "print(s.format(\"Manivasagam\", 28))\n",
    "print(s_1.format(\"Manivasagam\", 28))\n",
    "print(s_2.format(\"Manivasagam\", 28))\n",
    "print(s_3.format(40, 28))\n",
    "print(s_4.format(-15, -28))\n",
    "print(s_5.format(temprat))"
   ]
  },
  {
   "cell_type": "code",
   "execution_count": 88,
   "id": "e9df4972",
   "metadata": {},
   "outputs": [
    {
     "name": "stdout",
     "output_type": "stream",
     "text": [
      "My name is Manivasagam I am 28 years old\n",
      "My name is Manivasagam My age is 28\n"
     ]
    }
   ],
   "source": [
    "#format_map()\n",
    "data={'name': 'Manivasagam', 'age': 28}\n",
    "s=\"My name is {name} I am {age} years old\"\n",
    "print(s.format_map(data))\n",
    "#format_map() with input()\n",
    "name=input()\n",
    "age=input()\n",
    "data={'name': name, 'age': age}\n",
    "s=\"My name is {name} My age is {age}\"\n",
    "print(s.format_map(data))"
   ]
  },
  {
   "cell_type": "code",
   "execution_count": 91,
   "id": "44eb28f3",
   "metadata": {},
   "outputs": [
    {
     "name": "stdout",
     "output_type": "stream",
     "text": [
      "9\n",
      "9\n"
     ]
    }
   ],
   "source": [
    "#index()\n",
    "s=\"Hello, this is example for index()\"\n",
    "print(s.find(\"i\"))\n",
    "print(s.index(\"i\"))"
   ]
  },
  {
   "cell_type": "code",
   "execution_count": 95,
   "id": "bd6b5c21",
   "metadata": {},
   "outputs": [
    {
     "name": "stdout",
     "output_type": "stream",
     "text": [
      "True\n",
      "False\n",
      "True\n",
      "False\n",
      "False\n",
      "True\n"
     ]
    }
   ],
   "source": [
    "s=\"mani1234\"\n",
    "print(s.isalnum())\n",
    "print(s.isalpha())\n",
    "print(s.isascii())\n",
    "print(s.isdecimal())\n",
    "print(s.isdigit())\n",
    "print(s.isidentifier())"
   ]
  },
  {
   "cell_type": "code",
   "execution_count": 97,
   "id": "6bcb69e0",
   "metadata": {},
   "outputs": [
    {
     "name": "stdout",
     "output_type": "stream",
     "text": [
      "False\n",
      "False\n",
      "True\n",
      "False\n",
      "True\n",
      "False\n"
     ]
    }
   ],
   "source": [
    "s=\"Manivasagam 1234\"\n",
    "print(s.islower())\n",
    "print(s.isnumeric())\n",
    "print(s.isprintable())\n",
    "print(s.isspace())\n",
    "print(s.istitle())\n",
    "print(s.isupper())"
   ]
  }
 ],
 "metadata": {
  "kernelspec": {
   "display_name": "Python 3",
   "language": "python",
   "name": "python3"
  },
  "language_info": {
   "codemirror_mode": {
    "name": "ipython",
    "version": 3
   },
   "file_extension": ".py",
   "mimetype": "text/x-python",
   "name": "python",
   "nbconvert_exporter": "python",
   "pygments_lexer": "ipython3",
   "version": "3.13.3"
  }
 },
 "nbformat": 4,
 "nbformat_minor": 5
}
