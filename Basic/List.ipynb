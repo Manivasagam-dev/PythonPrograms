{
 "cells": [
  {
   "cell_type": "code",
   "execution_count": 59,
   "id": "c6853106",
   "metadata": {},
   "outputs": [
    {
     "name": "stdout",
     "output_type": "stream",
     "text": [
      "[1, 2, 3, 'mani', 'vasagam']\n",
      "[1, 2, 3, 'mani', 'vasagam', 'govindasamy']\n",
      "Adding a list to a list:\n",
      " [1, 2, 3, 'mani', 'vasagam', 'govindasamy', ['c', 'c++', 'java', 'python']]\n"
     ]
    }
   ],
   "source": [
    "'''Adds elements at the end of the list\n",
    "Syntax: list.append(element)\n",
    "Element: \"Required. An element of any type(string, number,object etc.)'''\n",
    "a=[1,2,3,\"mani\", \"vasagam\"]\n",
    "print(a)\n",
    "a.append(\"govindasamy\")\n",
    "print(a)\n",
    "# Add a list to a list:\n",
    "b=[\"c\",\"c++\",\"java\",\"python\"]\n",
    "a.append(b)\n",
    "print(\"Adding a list to a list:\\n\",a)"
   ]
  },
  {
   "cell_type": "code",
   "execution_count": 60,
   "id": "ce6af3b1",
   "metadata": {},
   "outputs": [
    {
     "name": "stdout",
     "output_type": "stream",
     "text": [
      "[1, 2, 3, 1.2, 2.2, 'hello']\n",
      "[]\n",
      "[1, 2, 3, 1.2, 2.2, 'hello']\n"
     ]
    }
   ],
   "source": [
    "# Removes all elements from a list.\n",
    "# Syntax: list.clear(). No parameters.\n",
    "# Returns a copy of the specified list.\n",
    "# Syntax: list.copy(). No parameters.\n",
    "a=[1,2,3,1.2,2.2,\"hello\"]\n",
    "b=a.copy()\n",
    "print(b)\n",
    "a.clear()\n",
    "print(a)\n",
    "print(b)"
   ]
  },
  {
   "cell_type": "code",
   "execution_count": 61,
   "id": "ada920a8",
   "metadata": {},
   "outputs": [
    {
     "name": "stdout",
     "output_type": "stream",
     "text": [
      "2\n",
      "2\n"
     ]
    }
   ],
   "source": [
    "# count() Returns the number of elements with the specified value.\n",
    "# Syntax: list.count(value).\n",
    "# Value: \"Required\". Any type (string, number, list, tuple, etc.). The value to search for.\n",
    "list_1=[1,2,3,2,1,4,5,6,7,4,3,5,2,3,0,9,8,0,6,9]\n",
    "print(list_1.count(0))\n",
    "x=list_1.count(0)\n",
    "print(x)"
   ]
  },
  {
   "cell_type": "code",
   "execution_count": 62,
   "id": "db9d5b9f",
   "metadata": {},
   "outputs": [
    {
     "name": "stdout",
     "output_type": "stream",
     "text": [
      "None\n",
      "[1, 2, 3, 4, 5, 6, 7, 8, 9, 10, 20, 30, 40, 50, 60, 70, 80, 90]\n"
     ]
    }
   ],
   "source": [
    "# extend() Add the elements of a list (or any itrable), to the end of the current list.\n",
    "# Syntax: list.extend(itrable)\n",
    "# iterable: \"Required\". Any iterable (list, set,tuple, etc.).\n",
    "list_1=[1, 2, 3, 4, 5, 6, 7, 8, 9]\n",
    "list_2=[10,20,30,40,50,60,70,80,90]\n",
    "print(list_1.extend(list_2))\n",
    "print(list_1)"
   ]
  },
  {
   "cell_type": "code",
   "execution_count": 63,
   "id": "3c20a4ff",
   "metadata": {},
   "outputs": [
    {
     "name": "stdout",
     "output_type": "stream",
     "text": [
      "value is not in the intended search range\n",
      "2\n"
     ]
    }
   ],
   "source": [
    "# index() Returns the index of the first element with the specified value.\n",
    "# Syntax: list.index(element, start, end). Same as in strings but element is any type(string, number, list, etc.)\n",
    "try:\n",
    "    y=list_2.index(40, 6)\n",
    "    x=list_2.index(40)\n",
    "except:\n",
    "    print(\"value is not in the intended search range\")\n",
    "finally:\n",
    "    print(x)"
   ]
  },
  {
   "cell_type": "code",
   "execution_count": 64,
   "id": "e79b54c2",
   "metadata": {},
   "outputs": [
    {
     "name": "stdout",
     "output_type": "stream",
     "text": [
      "[10, 20, 30, 40, 50, 'hello', 60, 70, 80, 90]\n"
     ]
    }
   ],
   "source": [
    "# insert() inserts the specified value at the specified position.\n",
    "# Syntax: list.insert(position,element)\n",
    "# Position: \"Required\". A number specifying in which position to insert the value.\n",
    "# Element: An element of any type(string, number, object, etc.)\n",
    "list_2.insert(5,\"hello\")\n",
    "print(list_2)"
   ]
  },
  {
   "cell_type": "code",
   "execution_count": null,
   "id": "425d1061",
   "metadata": {},
   "outputs": [
    {
     "name": "stdout",
     "output_type": "stream",
     "text": [
      "[1, 2, 3, 4, 5, 6, 7, 8, 9, 10, 20, 30, 40, 50, 60, 70, 80] \n",
      " [10, 20, 30, 40, 50, 60, 70, 80, 90]\n",
      "90 \n",
      " hello\n"
     ]
    }
   ],
   "source": [
    "# pop() Removes the element at the specified position.\n",
    "# pop() Returns the removed value.\n",
    "# Syntax: list.pop(position)\n",
    "# Position: \"Optional\". A number specifying the position of the element you want to remove, default is -1, which returns the last item.\n",
    "x=list_1.pop()\n",
    "y=list_2.pop(5)\n",
    "print(list_1,\"\\n\",list_2)\n",
    "print(x,'\\n',y)"
   ]
  },
  {
   "cell_type": "code",
   "execution_count": 66,
   "id": "bba91dee",
   "metadata": {},
   "outputs": [
    {
     "name": "stdout",
     "output_type": "stream",
     "text": [
      "[1, 2, 3, 4, 5, 6, 7, 8, 9, 20, 30, 40, 50, 60, 70, 80]\n"
     ]
    }
   ],
   "source": [
    "# remove() Removes the first item with the specified value.\n",
    "# syntax: list.remove(element).\n",
    "list_1.remove(10)\n",
    "print(list_1)"
   ]
  },
  {
   "cell_type": "code",
   "execution_count": 76,
   "id": "86460795",
   "metadata": {},
   "outputs": [
    {
     "name": "stdout",
     "output_type": "stream",
     "text": [
      "[80, 70, 60, 50, 40, 30, 20, 9, 8, 7, 6, 5, 4, 3, 2, 1]\n"
     ]
    }
   ],
   "source": [
    "# reverse() Reverses the order of the elements in the list.\n",
    "# Syntax: list.reverse() No parameters.\n",
    "list_1.reverse()\n",
    "print(list_1)"
   ]
  },
  {
   "cell_type": "code",
   "execution_count": 85,
   "id": "d20405b3",
   "metadata": {},
   "outputs": [
    {
     "name": "stdout",
     "output_type": "stream",
     "text": [
      "[9999, 224, 84, 66, 36, 25, 1, 0.2, 0]\n",
      "[0, 0.2, 1, 25, 36, 66, 84, 224, 9999]\n",
      "[{'name': 'ravi', 'age': 26}, {'name': 'mani', 'age': 28}, {'name': 'arun', 'age': 40}]\n",
      "[{'name': 'arun', 'age': 40}, {'name': 'mani', 'age': 28}, {'name': 'ravi', 'age': 26}]\n"
     ]
    }
   ],
   "source": [
    "# sort() sorts the list. Ascending by default. You can also make a function to decide the criteria.\n",
    "# Syntax: list.sort(reverse=True|False,key=myfunc)\n",
    "# Reverse: \"Optional\". rverse=True will sort the list descending. Default is reverse=False.\n",
    "# Key: \"Optional\". A function to specify the sorting criteria.\n",
    "list_3=[25,66,1,0,84,36,224,0.2,9999]\n",
    "list_3.sort(reverse=True)\n",
    "print(list_3)\n",
    "\n",
    "list_3.sort()\n",
    "print(list_3)\n",
    "\n",
    "def by_age(rv):\n",
    "    return rv['age']\n",
    "\n",
    "list_4=[{'name':'mani','age':28},{'name':'ravi','age':26},{'name':'arun','age':40}]\n",
    "list_4.sort(key=by_age)\n",
    "print(list_4)\n",
    "\n",
    "def by_name(rv):\n",
    "    return rv['name']\n",
    "list_4.sort(key=by_name)\n",
    "print(list_4)"
   ]
  }
 ],
 "metadata": {
  "kernelspec": {
   "display_name": "Python 3",
   "language": "python",
   "name": "python3"
  },
  "language_info": {
   "codemirror_mode": {
    "name": "ipython",
    "version": 3
   },
   "file_extension": ".py",
   "mimetype": "text/x-python",
   "name": "python",
   "nbconvert_exporter": "python",
   "pygments_lexer": "ipython3",
   "version": "3.13.3"
  }
 },
 "nbformat": 4,
 "nbformat_minor": 5
}
