{
 "cells": [
  {
   "cell_type": "code",
   "execution_count": 1,
   "id": "9aa1f654",
   "metadata": {},
   "outputs": [
    {
     "name": "stdout",
     "output_type": "stream",
     "text": [
      "5.256544\n"
     ]
    }
   ],
   "source": [
    "x=-5.256544\n",
    "print(abs(x))"
   ]
  },
  {
   "cell_type": "code",
   "execution_count": null,
   "id": "c3c22948",
   "metadata": {},
   "outputs": [
    {
     "name": "stdout",
     "output_type": "stream",
     "text": [
      "14.866068747318506\n"
     ]
    }
   ],
   "source": [
    "y=5+1j\n",
    "print(abs(y))"
   ]
  },
  {
   "cell_type": "code",
   "execution_count": 22,
   "id": "4dabd941",
   "metadata": {},
   "outputs": [
    {
     "name": "stdout",
     "output_type": "stream",
     "text": [
      "True\n"
     ]
    }
   ],
   "source": [
    "list_1=[1,2,3,4,5,6,7,8,9,10]\n",
    "print(all(list_1))"
   ]
  },
  {
   "cell_type": "code",
   "execution_count": 23,
   "id": "977bd72e",
   "metadata": {},
   "outputs": [
    {
     "name": "stdout",
     "output_type": "stream",
     "text": [
      "False\n"
     ]
    }
   ],
   "source": [
    "list_1=[True,False]\n",
    "print(all(list_1))"
   ]
  },
  {
   "cell_type": "code",
   "execution_count": 34,
   "id": "a492f986",
   "metadata": {},
   "outputs": [
    {
     "name": "stdout",
     "output_type": "stream",
     "text": [
      "list_1 is :  True \n",
      " list_2 is :  False\n"
     ]
    }
   ],
   "source": [
    "list_1=[0,1,0,1,0,0]\n",
    "list_2=[0,0,0,0,0,0,0]\n",
    "print(\"list_1 is : \", any(list_1), \"\\n list_2 is : \", any(list_2))"
   ]
  },
  {
   "cell_type": "code",
   "execution_count": null,
   "id": "9eb179d7",
   "metadata": {},
   "outputs": [],
   "source": []
  }
 ],
 "metadata": {
  "kernelspec": {
   "display_name": "Python 3",
   "language": "python",
   "name": "python3"
  },
  "language_info": {
   "codemirror_mode": {
    "name": "ipython",
    "version": 3
   },
   "file_extension": ".py",
   "mimetype": "text/x-python",
   "name": "python",
   "nbconvert_exporter": "python",
   "pygments_lexer": "ipython3",
   "version": "3.13.3"
  }
 },
 "nbformat": 4,
 "nbformat_minor": 5
}
