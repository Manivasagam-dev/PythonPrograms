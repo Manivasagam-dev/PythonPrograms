{
 "cells": [
  {
   "cell_type": "code",
   "execution_count": 1,
   "id": "9aa1f654",
   "metadata": {},
   "outputs": [
    {
     "name": "stdout",
     "output_type": "stream",
     "text": [
      "5.256544\n"
     ]
    }
   ],
   "source": [
    "x=-5.256544\n",
    "print(abs(x))"
   ]
  },
  {
   "cell_type": "code",
   "execution_count": null,
   "id": "c3c22948",
   "metadata": {},
   "outputs": [
    {
     "name": "stdout",
     "output_type": "stream",
     "text": [
      "14.866068747318506\n"
     ]
    }
   ],
   "source": [
    "y=5+1j\n",
    "print(abs(y))"
   ]
  },
  {
   "cell_type": "code",
   "execution_count": null,
   "id": "4dabd941",
   "metadata": {},
   "outputs": [
    {
     "name": "stdout",
     "output_type": "stream",
     "text": [
      "True\n"
     ]
    }
   ],
   "source": [
    "# all() returns True if all the items in an iterable are true (none zero values), Otherwise False.\n",
    "# If the iterable object is empty it also returns True.\n",
    "# Syntax: all(iterable) \"iterable objects like list, tuple, dictionary\"\n",
    "# when using an dictionary it checks the key not the value.\n",
    "list_1=[1,2,3,4,5,6,7,8,9,10]\n",
    "print(all(list_1))"
   ]
  },
  {
   "cell_type": "code",
   "execution_count": 23,
   "id": "977bd72e",
   "metadata": {},
   "outputs": [
    {
     "name": "stdout",
     "output_type": "stream",
     "text": [
      "False\n"
     ]
    }
   ],
   "source": [
    "list_1=[True,False]\n",
    "print(all(list_1))"
   ]
  },
  {
   "cell_type": "code",
   "execution_count": null,
   "id": "a492f986",
   "metadata": {},
   "outputs": [
    {
     "name": "stdout",
     "output_type": "stream",
     "text": [
      "list_1 is :  True \n",
      " list_2 is :  False\n"
     ]
    }
   ],
   "source": [
    "# any() returns True if any item in an iterable is True.\n",
    "list_1=[0,1,0,1,0,0]\n",
    "list_2=[0,0,0,0,0,0,0]\n",
    "print(\"list_1 is : \", any(list_1), \"\\n list_2 is : \", any(list_2))"
   ]
  },
  {
   "cell_type": "code",
   "execution_count": 8,
   "id": "9eb179d7",
   "metadata": {},
   "outputs": [
    {
     "name": "stdout",
     "output_type": "stream",
     "text": [
      "'my name is \\xe4 mani \\xf4'\n"
     ]
    }
   ],
   "source": [
    "# ascii() Returns a readable version of an object. Replaces none-ascii characters with escape character.\n",
    "# Syntax: ascii(object). Object: string, list, tuple, dictionary, etc.\n",
    "x=ascii(\"my name is ä mani ô\")\n",
    "print(x)"
   ]
  },
  {
   "cell_type": "code",
   "execution_count": 9,
   "id": "edb1e95a",
   "metadata": {},
   "outputs": [
    {
     "name": "stdout",
     "output_type": "stream",
     "text": [
      "0b11001\n"
     ]
    }
   ],
   "source": [
    "# bin() returns the binary veersion of a specified integer.The result will always start with the prefix 0b.\n",
    "# Syntax: bin(n) n:\"Required\". An integer.\n",
    "x=bin(25)\n",
    "print(x)"
   ]
  },
  {
   "cell_type": "code",
   "execution_count": 17,
   "id": "ad861d98",
   "metadata": {},
   "outputs": [
    {
     "name": "stdout",
     "output_type": "stream",
     "text": [
      "False\n",
      "False\n",
      "False\n",
      "False\n",
      "True\n",
      "True\n",
      "True\n"
     ]
    }
   ],
   "source": [
    "# bool() returns the boolean value of a specified object.\n",
    "# The object will always return True, Unless: The object is empty like {},[],() or the object is false or the object is 0 or the object is None.\n",
    "# Syntax: bool(object)\n",
    "print(bool(False))\n",
    "print(bool(0))\n",
    "print(bool())\n",
    "print(bool(None))\n",
    "print(bool(\"jhfgsdf\"))\n",
    "print(bool(54))\n",
    "print(bool('~'))"
   ]
  },
  {
   "cell_type": "code",
   "execution_count": 27,
   "id": "1d975e6a",
   "metadata": {},
   "outputs": [
    {
     "name": "stdout",
     "output_type": "stream",
     "text": [
      "b'\\x00\\x00'\n",
      "b'\\xff\\xfeh\\x00i\\x00'\n",
      "b'ABC'\n"
     ]
    }
   ],
   "source": [
    "# bytes() is used to create immutable byte objects.\n",
    "# These objects represent sequences of single bytes, which are integers ranging from 0 to 255.\n",
    "# Byte objects are commonly used when dealing with binary data, such as network communications or file handling.\n",
    "# Syntax: bytes(source, encoding, errors)\n",
    "# source:\"optional\" specifies the data source to initialize the byte object. It can be an integer, a string, an iterable.\n",
    "# encoding: \"optional\" used only when the source is a string. it specifies the encoding to use when converting the string to bytes.\n",
    "# errors: (\"optional\") specifies how to handle encoding errors.\n",
    "empty_bytes=bytes(2)\n",
    "print(empty_bytes)\n",
    "string_bytes=bytes(\"hi\",'utf-16')\n",
    "print(string_bytes)\n",
    "iterable_bytes=bytes([65,66,67])\n",
    "print(iterable_bytes)"
   ]
  },
  {
   "cell_type": "code",
   "execution_count": null,
   "id": "8e830c4c",
   "metadata": {},
   "outputs": [],
   "source": [
    "# bytearray() that creates a mutable sequence of bytes.\n",
    "# it is similar to bytes(), bytearray() objects can be modified after creation, unlike bytes objects, which are immutable. "
   ]
  }
 ],
 "metadata": {
  "kernelspec": {
   "display_name": "Python 3",
   "language": "python",
   "name": "python3"
  },
  "language_info": {
   "codemirror_mode": {
    "name": "ipython",
    "version": 3
   },
   "file_extension": ".py",
   "mimetype": "text/x-python",
   "name": "python",
   "nbconvert_exporter": "python",
   "pygments_lexer": "ipython3",
   "version": "3.13.3"
  }
 },
 "nbformat": 4,
 "nbformat_minor": 5
}
