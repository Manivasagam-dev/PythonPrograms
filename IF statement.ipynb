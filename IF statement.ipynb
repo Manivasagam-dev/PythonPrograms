{
 "cells": [
  {
   "cell_type": "code",
   "execution_count": 2,
   "id": "1e70bc55",
   "metadata": {},
   "outputs": [
    {
     "name": "stdout",
     "output_type": "stream",
     "text": [
      "hi\n"
     ]
    }
   ],
   "source": [
    "x=0\n",
    "if x<=1:\n",
    "    print(\"hi\")"
   ]
  },
  {
   "cell_type": "code",
   "execution_count": 3,
   "id": "71be7eca",
   "metadata": {},
   "outputs": [
    {
     "name": "stdout",
     "output_type": "stream",
     "text": [
      "hey\n"
     ]
    }
   ],
   "source": [
    "x=0\n",
    "if x>0:\n",
    "    print(\"hello\")\n",
    "elif x<0:\n",
    "    print(\"welcome\")\n",
    "else:\n",
    "    print(\"hey\")"
   ]
  },
  {
   "cell_type": "code",
   "execution_count": 7,
   "id": "6447d516",
   "metadata": {},
   "outputs": [
    {
     "name": "stdout",
     "output_type": "stream",
     "text": [
      "Pass\n",
      "your grade is C\n"
     ]
    }
   ],
   "source": [
    "mark=int(input())\n",
    "if mark>=40:\n",
    "    print(\"Pass\")\n",
    "    if mark<=60 and mark>=40:\n",
    "        print(\"your grade is D\")\n",
    "    elif mark>60 & mark<=70:\n",
    "        print(\"your grade is C\")\n",
    "    elif mark>70 and mark <80:\n",
    "        print(\"your grade is B\")\n",
    "    else:\n",
    "        print(\"your grade is A\")\n",
    "else:\n",
    "    print(\"Fail\")\n"
   ]
  }
 ],
 "metadata": {
  "kernelspec": {
   "display_name": "Python 3",
   "language": "python",
   "name": "python3"
  },
  "language_info": {
   "codemirror_mode": {
    "name": "ipython",
    "version": 3
   },
   "file_extension": ".py",
   "mimetype": "text/x-python",
   "name": "python",
   "nbconvert_exporter": "python",
   "pygments_lexer": "ipython3",
   "version": "3.13.3"
  }
 },
 "nbformat": 4,
 "nbformat_minor": 5
}
